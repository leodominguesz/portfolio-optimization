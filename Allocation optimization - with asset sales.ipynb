{
 "cells": [
  {
   "cell_type": "markdown",
   "id": "fb1c318c",
   "metadata": {},
   "source": [
    "# Aportes sem vendas de ativo"
   ]
  },
  {
   "cell_type": "markdown",
   "id": "0075fe42",
   "metadata": {},
   "source": [
    "# Carregamento dos pacotes e dados"
   ]
  },
  {
   "cell_type": "markdown",
   "id": "9a41c7f9",
   "metadata": {},
   "source": [
    "Ilustração de uma carteira hipotética com 15 ativos, indicando o valor atual dos investimentos em cada ativo, bem como a fração destes no portfolio. O Dataframe também indica a fração ideal, configurado pelo gestor, e a diferença entre o real e o desejado."
   ]
  },
  {
   "cell_type": "markdown",
   "id": "e64688ef",
   "metadata": {},
   "source": [
    "Pacotes"
   ]
  },
  {
   "cell_type": "code",
   "execution_count": 1,
   "id": "a46ad49d",
   "metadata": {},
   "outputs": [],
   "source": [
    "using JuMP, GLPK, DataFrames, XLSX, CSV, Ipopt"
   ]
  },
  {
   "cell_type": "markdown",
   "id": "7d6656f6",
   "metadata": {},
   "source": [
    "Data"
   ]
  },
  {
   "cell_type": "code",
   "execution_count": 2,
   "id": "7605b6dd",
   "metadata": {},
   "outputs": [
    {
     "data": {
      "text/html": [
       "<div class=\"data-frame\"><p>15 rows × 5 columns</p><table class=\"data-frame\"><thead><tr><th></th><th>Stock</th><th>Profitable_investment</th><th>Allocation</th><th>Ideal_allocation</th><th>Diff_allocation</th></tr><tr><th></th><th title=\"Any\">Any</th><th title=\"Any\">Any</th><th title=\"Any\">Any</th><th title=\"Any\">Any</th><th title=\"Any\">Any</th></tr></thead><tbody><tr><th>1</th><td>IJR</td><td>1125.4</td><td>0.0496</td><td>0.1</td><td>-0.0504</td></tr><tr><th>2</th><td>VUG</td><td>2504.64</td><td>0.1103</td><td>0.1</td><td>0.0103</td></tr><tr><th>3</th><td>IRBO</td><td>1078.32</td><td>0.0475</td><td>0.1</td><td>-0.0525</td></tr><tr><th>4</th><td>IGV</td><td>2192.55</td><td>0.0965</td><td>0.1</td><td>-0.0035</td></tr><tr><th>5</th><td>IEO</td><td>510.08</td><td>0.0225</td><td>0.05</td><td>-0.0275</td></tr><tr><th>6</th><td>VBK</td><td>1473.85</td><td>0.0649</td><td>0.1</td><td>-0.0351</td></tr><tr><th>7</th><td>SNSR</td><td>1896.5</td><td>0.0835</td><td>0.1</td><td>-0.0165</td></tr><tr><th>8</th><td>AMZN</td><td>1671.06</td><td>0.0736</td><td>0.04</td><td>0.0336</td></tr><tr><th>9</th><td>FB</td><td>1612.85</td><td>0.071</td><td>0.04</td><td>0.031</td></tr><tr><th>10</th><td>VYM</td><td>1082.6</td><td>0.0477</td><td>0.05</td><td>-0.0023</td></tr><tr><th>11</th><td>SOXX</td><td>2364.75</td><td>0.1041</td><td>0.05</td><td>0.0541</td></tr><tr><th>12</th><td>VIG</td><td>1638.6</td><td>0.0722</td><td>0.05</td><td>0.0222</td></tr><tr><th>13</th><td>VXX</td><td>431.6</td><td>0.019</td><td>0.04</td><td>-0.021</td></tr><tr><th>14</th><td>MSFT</td><td>1649.25</td><td>0.0726</td><td>0.04</td><td>0.0326</td></tr><tr><th>15</th><td>GOOG</td><td>1477.89</td><td>0.0651</td><td>0.04</td><td>0.0251</td></tr></tbody></table></div>"
      ],
      "text/latex": [
       "\\begin{tabular}{r|ccccc}\n",
       "\t& Stock & Profitable\\_investment & Allocation & Ideal\\_allocation & Diff\\_allocation\\\\\n",
       "\t\\hline\n",
       "\t& Any & Any & Any & Any & Any\\\\\n",
       "\t\\hline\n",
       "\t1 & IJR & 1125.4 & 0.0496 & 0.1 & -0.0504 \\\\\n",
       "\t2 & VUG & 2504.64 & 0.1103 & 0.1 & 0.0103 \\\\\n",
       "\t3 & IRBO & 1078.32 & 0.0475 & 0.1 & -0.0525 \\\\\n",
       "\t4 & IGV & 2192.55 & 0.0965 & 0.1 & -0.0035 \\\\\n",
       "\t5 & IEO & 510.08 & 0.0225 & 0.05 & -0.0275 \\\\\n",
       "\t6 & VBK & 1473.85 & 0.0649 & 0.1 & -0.0351 \\\\\n",
       "\t7 & SNSR & 1896.5 & 0.0835 & 0.1 & -0.0165 \\\\\n",
       "\t8 & AMZN & 1671.06 & 0.0736 & 0.04 & 0.0336 \\\\\n",
       "\t9 & FB & 1612.85 & 0.071 & 0.04 & 0.031 \\\\\n",
       "\t10 & VYM & 1082.6 & 0.0477 & 0.05 & -0.0023 \\\\\n",
       "\t11 & SOXX & 2364.75 & 0.1041 & 0.05 & 0.0541 \\\\\n",
       "\t12 & VIG & 1638.6 & 0.0722 & 0.05 & 0.0222 \\\\\n",
       "\t13 & VXX & 431.6 & 0.019 & 0.04 & -0.021 \\\\\n",
       "\t14 & MSFT & 1649.25 & 0.0726 & 0.04 & 0.0326 \\\\\n",
       "\t15 & GOOG & 1477.89 & 0.0651 & 0.04 & 0.0251 \\\\\n",
       "\\end{tabular}\n"
      ],
      "text/plain": [
       "\u001b[1m15×5 DataFrame\u001b[0m\n",
       "\u001b[1m Row \u001b[0m│\u001b[1m Stock \u001b[0m\u001b[1m Profitable_investment \u001b[0m\u001b[1m Allocation \u001b[0m\u001b[1m Ideal_allocation \u001b[0m\u001b[1m Diff_alloca\u001b[0m ⋯\n",
       "\u001b[1m     \u001b[0m│\u001b[90m Any   \u001b[0m\u001b[90m Any                   \u001b[0m\u001b[90m Any        \u001b[0m\u001b[90m Any              \u001b[0m\u001b[90m Any        \u001b[0m ⋯\n",
       "─────┼──────────────────────────────────────────────────────────────────────────\n",
       "   1 │ IJR    1125.4                 0.0496      0.1               -0.0504     ⋯\n",
       "   2 │ VUG    2504.64                0.1103      0.1               0.0103\n",
       "   3 │ IRBO   1078.32                0.0475      0.1               -0.0525\n",
       "   4 │ IGV    2192.55                0.0965      0.1               -0.0035\n",
       "   5 │ IEO    510.08                 0.0225      0.05              -0.0275     ⋯\n",
       "   6 │ VBK    1473.85                0.0649      0.1               -0.0351\n",
       "   7 │ SNSR   1896.5                 0.0835      0.1               -0.0165\n",
       "   8 │ AMZN   1671.06                0.0736      0.04              0.0336\n",
       "   9 │ FB     1612.85                0.071       0.04              0.031       ⋯\n",
       "  10 │ VYM    1082.6                 0.0477      0.05              -0.0023\n",
       "  11 │ SOXX   2364.75                0.1041      0.05              0.0541\n",
       "  12 │ VIG    1638.6                 0.0722      0.05              0.0222\n",
       "  13 │ VXX    431.6                  0.019       0.04              -0.021      ⋯\n",
       "  14 │ MSFT   1649.25                0.0726      0.04              0.0326\n",
       "  15 │ GOOG   1477.89                0.0651      0.04              0.0251\n",
       "\u001b[36m                                                                1 column omitted\u001b[0m"
      ]
     },
     "execution_count": 2,
     "metadata": {},
     "output_type": "execute_result"
    }
   ],
   "source": [
    "df = XLSX.readdata(\"G:/Meu Drive/Investimentos.xlsx\", \"Investimentos\", \"C1:M16\")\n",
    "df = DataFrame(Any[@view df[2:end, i] for i in 1:size(df, 2)], Symbol.(df[1, :]))\n",
    "\n",
    "#Removing some columns\n",
    "select!(df, Not([:Amount,:Average_price,:Range,:Diff,:Actual_value,:Invested]))"
   ]
  },
  {
   "cell_type": "markdown",
   "id": "52e0d7fa",
   "metadata": {},
   "source": [
    "# Definição das variáveis e condições de aporte"
   ]
  },
  {
   "cell_type": "markdown",
   "id": "91ddba2e",
   "metadata": {},
   "source": [
    "Configuração das variáveis que entrarão na otimização, bem como os parâmetros relacionados ao aporte e se as mudanças no portfolio considerarão a possibilidade de vendas de ativos, para equilibrar o portfolio.\n",
    "\n",
    "A primeira ilustração não levará em consideração a venda de ativos, para equilibrar o portfólio."
   ]
  },
  {
   "cell_type": "markdown",
   "id": "e3f3d53b",
   "metadata": {},
   "source": [
    "Variáveis:"
   ]
  },
  {
   "cell_type": "code",
   "execution_count": 3,
   "id": "23c6cd5c",
   "metadata": {},
   "outputs": [
    {
     "data": {
      "text/plain": [
       "true"
      ]
     },
     "execution_count": 3,
     "metadata": {},
     "output_type": "execute_result"
    }
   ],
   "source": [
    "investido = df.Profitable_investment\n",
    "ideal = df.Ideal_allocation\n",
    "conj_ativos = collect(1:(size(df)[1])) # qnt. de atributos\n",
    "valor_aporte = 1000 #EM DÓLARES\n",
    "vender = true"
   ]
  },
  {
   "cell_type": "markdown",
   "id": "4a4a076d",
   "metadata": {},
   "source": [
    "# Problema de otimização"
   ]
  },
  {
   "cell_type": "code",
   "execution_count": 4,
   "id": "ae6a5f1a",
   "metadata": {},
   "outputs": [
    {
     "data": {
      "text/plain": [
       "OPT_problem (generic function with 1 method)"
      ]
     },
     "execution_count": 4,
     "metadata": {},
     "output_type": "execute_result"
    }
   ],
   "source": [
    "function OPT_problem(investido,ideal,conj_ativos,valor_aporte, vender)\n",
    "    @eval begin\n",
    "    OPT = Model(Ipopt.Optimizer);\n",
    "    set_silent(OPT) # O otimizador não imprime nada.\n",
    "\n",
    "    #Definição das variáveis\n",
    "    if vender == false\n",
    "        @variable(OPT, aporte[i in conj_ativos] >= 0)\n",
    "    else\n",
    "        @variable(OPT, aporte[i in conj_ativos])\n",
    "    end\n",
    "    @variable(OPT, new_frac[i in conj_ativos] >= 0)\n",
    "    @variable(OPT, abs_frac[i in conj_ativos] >= 0)\n",
    "    # @variable(OPT, investir[i in conj_ativos], binary = true)\n",
    "\n",
    "    #Restrições\n",
    "    @constraint(OPT, new_frac_, sum(new_frac[i] for i in conj_ativos) == 1)\n",
    "    @NLconstraint(OPT, frac_ideal[i in conj_ativos],\n",
    "        (new_frac[i] * sum(investido[i]+aporte[i] for i in conj_ativos))\n",
    "        <= (investido[i]+aporte[i]))\n",
    "    @constraint(OPT, abs_1[i in conj_ativos], abs_frac[i] >= (ideal[i] - new_frac[i]))\n",
    "    @constraint(OPT, abs_2[i in conj_ativos], abs_frac[i] >= -(ideal[i] - new_frac[i]))\n",
    "    @constraint(OPT, new_frac_less_one[i in conj_ativos], new_frac[i] <= 1)\n",
    "    @constraint(OPT, val_aporte, sum(aporte[i] for i in conj_ativos) == valor_aporte)\n",
    "    @constraint(OPT, val_aporte_max[i in conj_ativos], aporte[i] <= valor_aporte)\n",
    "    # @constraint(OPT, corretagem, sum(investir[i] for i in conj_ativos) <= 10)\n",
    "\n",
    "\n",
    "    #Função objetivo\n",
    "    @objective(OPT, Min, sum(abs_frac[i] for i in conj_ativos))\n",
    "    # @objective(OPT, Min, sum(L[t] for t in T_L)/L_norm + α*sum(sum(s[j,t] for j in p) for t in T_B))\n",
    "\n",
    "    optimize!(OPT)\n",
    "    fo = JuMP.objective_value(OPT)\n",
    "    aportee=[JuMP.value.(aporte)[CartesianIndex(i)] for i in 1:length(ideal)]\n",
    "    new_fracc=[JuMP.value.(new_frac)[CartesianIndex(i)] for i in 1:length(ideal)]\n",
    "\n",
    "end\n",
    "end"
   ]
  },
  {
   "cell_type": "markdown",
   "id": "3febf9a8",
   "metadata": {},
   "source": [
    "# Solução"
   ]
  },
  {
   "cell_type": "code",
   "execution_count": 5,
   "id": "cbd0e430",
   "metadata": {},
   "outputs": [
    {
     "name": "stdout",
     "output_type": "stream",
     "text": [
      "\n",
      "******************************************************************************\n",
      "This program contains Ipopt, a library for large-scale nonlinear optimization.\n",
      " Ipopt is released as open source code under the Eclipse Public License (EPL).\n",
      "         For more information visit https://github.com/coin-or/Ipopt\n",
      "******************************************************************************\n",
      "\n",
      "\n",
      "Objective function: 0.0454043077950185\n",
      "To sell: true\n",
      "Investment: $ 1000\n",
      "\n",
      "\u001b[1m15×8 DataFrame\u001b[0m\n",
      "\u001b[1m Row \u001b[0m│\u001b[1m Stock \u001b[0m\u001b[1m Profitable_investment \u001b[0m\u001b[1m Invested \u001b[0m\u001b[1m Allocation \u001b[0m\u001b[1m Ideal_allocation \u001b[0m\u001b[1m Diff_allocation \u001b[0m\u001b[1m Investment \u001b[0m\u001b[1m Diff_Allocation \u001b[0m\n",
      "\u001b[1m     \u001b[0m│\u001b[90m Any   \u001b[0m\u001b[90m Any                   \u001b[0m\u001b[90m Float64  \u001b[0m\u001b[90m Float64    \u001b[0m\u001b[90m Any              \u001b[0m\u001b[90m Any             \u001b[0m\u001b[90m Float64    \u001b[0m\u001b[90m Float64         \u001b[0m\n",
      "─────┼────────────────────────────────────────────────────────────────────────────────────────────────────────────────────\n",
      "   1 │ IJR    1125.4                 2125.4         0.09   0.1               -0.0504            1000.0              0.01\n",
      "   2 │ VUG    2504.64                2413.04        0.102  0.1               0.0103              -91.596           -0.002\n",
      "   3 │ IRBO   1078.32                2078.32        0.088  0.1               -0.0525            1000.0              0.012\n",
      "   4 │ IGV    2192.55                2412.72        0.102  0.1               -0.0035             220.173           -0.002\n",
      "   5 │ IEO    510.08                 1225.69        0.052  0.05              -0.0275             715.611           -0.002\n",
      "   6 │ VBK    1473.85                2403.82        0.101  0.1               -0.0351             929.972           -0.001\n",
      "   7 │ SNSR   1896.5                 2412.05        0.102  0.1               -0.0165             515.553           -0.002\n",
      "   8 │ AMZN   1671.06                 991.276       0.042  0.04              0.0336             -679.784           -0.002\n",
      "   9 │ FB     1612.85                 991.256       0.042  0.04              0.031              -621.594           -0.002\n",
      "  10 │ VYM    1082.6                 1227.68        0.052  0.05              -0.0023             145.079           -0.002\n",
      "  11 │ SOXX   2364.75                1228.31        0.052  0.05              0.0541            -1136.44            -0.002\n",
      "  12 │ VIG    1638.6                 1228.09        0.052  0.05              0.0222             -410.507           -0.002\n",
      "  13 │ VXX    431.6                   989.796       0.042  0.04              -0.021              558.196           -0.002\n",
      "  14 │ MSFT   1649.25                 991.268       0.042  0.04              0.0326             -657.982           -0.002\n",
      "  15 │ GOOG   1477.89                 991.205       0.042  0.04              0.0251             -486.685           -0.002\n",
      "Investment: 999.9989999999998\n",
      "Invested dollars: 23709.939"
     ]
    }
   ],
   "source": [
    "OPT_problem(investido,ideal,conj_ativos,valor_aporte, vender)\n",
    "print(\"\\nObjective function: \", fo, \"\\n\")\n",
    "print(\"To sell: \", vender, \"\\n\")\n",
    "print(\"Investment: \\$ \", valor_aporte, \"\\n\\n\")\n",
    "\n",
    "insertcols!(df, size(df)[2]+1, :Investment => round.(aportee, digits = 3))\n",
    "\n",
    "df.Allocation = round.(new_fracc; digits = 3)\n",
    "df.Diff_Allocation = round.(df.Ideal_allocation - df.Allocation, digits = 3)\n",
    "insertcols!(df, 3, :Invested => round.(df.Profitable_investment + df.Investment, digits = 3))\n",
    "# df.Profitable_investment = round.(df.Profitable_investment + df.Investment, digits = 3)\n",
    "# insertcols!(df, 8, :Diff_New => round.(df.Ideal_allocation - df.Allocation, digits = 3))\n",
    "print(df)\n",
    "\n",
    "print(\"\\nInvestment: \",sum(df.Investment))\n",
    "print(\"\\nInvested dollars: \",sum(df.Invested))\n"
   ]
  },
  {
   "cell_type": "markdown",
   "id": "69e186bd",
   "metadata": {},
   "source": [
    "A possibilidade de vendas de ativo possibilita que o portfolio tenda a alcançar as frações desejadas pelo gestor. É uma ferramenta bem útil para quem trabalha com um portfolio com muitos ativos e que queira rebalancear a carteira ao longo do tempo, buscando um manejo adequado a cada ativo, ao longo do ciclo econômico."
   ]
  }
 ],
 "metadata": {
  "kernelspec": {
   "display_name": "Julia 1.7.0",
   "language": "julia",
   "name": "julia-1.7"
  },
  "language_info": {
   "file_extension": ".jl",
   "mimetype": "application/julia",
   "name": "julia",
   "version": "1.7.0"
  }
 },
 "nbformat": 4,
 "nbformat_minor": 5
}
