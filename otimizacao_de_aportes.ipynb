{
 "cells": [
  {
   "cell_type": "markdown",
   "id": "0075fe42",
   "metadata": {},
   "source": [
    "# Carregamento dos pacotes e dados"
   ]
  },
  {
   "cell_type": "markdown",
   "id": "9a41c7f9",
   "metadata": {},
   "source": [
    "Ilustração de uma carteira hipotética com 15 ativos, indicando o valor atual dos investimentos em cada ativo, bem como a fração destes no portfolio. O Dataframe também indica a fração ideal, configurado pelo gestor, e a diferença entre o real e o desejado."
   ]
  },
  {
   "cell_type": "code",
   "execution_count": 11,
   "id": "a46ad49d",
   "metadata": {},
   "outputs": [
    {
     "data": {
      "text/html": [
       "<table class=\"data-frame\"><thead><tr><th></th><th>Ativo</th><th>Real</th><th>Fatia</th><th>Ideal</th><th>Diff_Fatia</th></tr><tr><th></th><th>Any</th><th>Any</th><th>Any</th><th>Any</th><th>Any</th></tr></thead><tbody><p>15 rows × 5 columns</p><tr><th>1</th><td>IJR</td><td>1125.4</td><td>0.0496</td><td>0.1</td><td>-0.0504</td></tr><tr><th>2</th><td>VUG</td><td>2504.64</td><td>0.1103</td><td>0.1</td><td>0.0103</td></tr><tr><th>3</th><td>IRBO</td><td>1078.32</td><td>0.0475</td><td>0.1</td><td>-0.0525</td></tr><tr><th>4</th><td>IGV</td><td>2192.55</td><td>0.0965</td><td>0.1</td><td>-0.0035</td></tr><tr><th>5</th><td>IEO</td><td>510.08</td><td>0.0225</td><td>0.05</td><td>-0.0275</td></tr><tr><th>6</th><td>VBK</td><td>1473.85</td><td>0.0649</td><td>0.1</td><td>-0.0351</td></tr><tr><th>7</th><td>SNSR</td><td>1896.5</td><td>0.0835</td><td>0.1</td><td>-0.0165</td></tr><tr><th>8</th><td>AMZN</td><td>1671.06</td><td>0.0736</td><td>0.04</td><td>0.0336</td></tr><tr><th>9</th><td>FB</td><td>1612.85</td><td>0.071</td><td>0.04</td><td>0.031</td></tr><tr><th>10</th><td>VYM</td><td>1082.6</td><td>0.0477</td><td>0.05</td><td>-0.0023</td></tr><tr><th>11</th><td>SOXX</td><td>2364.75</td><td>0.1041</td><td>0.05</td><td>0.0541</td></tr><tr><th>12</th><td>VIG</td><td>1638.6</td><td>0.0722</td><td>0.05</td><td>0.0222</td></tr><tr><th>13</th><td>VXX</td><td>431.6</td><td>0.019</td><td>0.04</td><td>-0.021</td></tr><tr><th>14</th><td>MSFT</td><td>1649.25</td><td>0.0726</td><td>0.04</td><td>0.0326</td></tr><tr><th>15</th><td>GOOG</td><td>1477.89</td><td>0.0651</td><td>0.04</td><td>0.0251</td></tr></tbody></table>"
      ],
      "text/latex": [
       "\\begin{tabular}{r|ccccc}\n",
       "\t& Ativo & Real & Fatia & Ideal & Diff\\_Fatia\\\\\n",
       "\t\\hline\n",
       "\t& Any & Any & Any & Any & Any\\\\\n",
       "\t\\hline\n",
       "\t1 & IJR & 1125.4 & 0.0496 & 0.1 & -0.0504 \\\\\n",
       "\t2 & VUG & 2504.64 & 0.1103 & 0.1 & 0.0103 \\\\\n",
       "\t3 & IRBO & 1078.32 & 0.0475 & 0.1 & -0.0525 \\\\\n",
       "\t4 & IGV & 2192.55 & 0.0965 & 0.1 & -0.0035 \\\\\n",
       "\t5 & IEO & 510.08 & 0.0225 & 0.05 & -0.0275 \\\\\n",
       "\t6 & VBK & 1473.85 & 0.0649 & 0.1 & -0.0351 \\\\\n",
       "\t7 & SNSR & 1896.5 & 0.0835 & 0.1 & -0.0165 \\\\\n",
       "\t8 & AMZN & 1671.06 & 0.0736 & 0.04 & 0.0336 \\\\\n",
       "\t9 & FB & 1612.85 & 0.071 & 0.04 & 0.031 \\\\\n",
       "\t10 & VYM & 1082.6 & 0.0477 & 0.05 & -0.0023 \\\\\n",
       "\t11 & SOXX & 2364.75 & 0.1041 & 0.05 & 0.0541 \\\\\n",
       "\t12 & VIG & 1638.6 & 0.0722 & 0.05 & 0.0222 \\\\\n",
       "\t13 & VXX & 431.6 & 0.019 & 0.04 & -0.021 \\\\\n",
       "\t14 & MSFT & 1649.25 & 0.0726 & 0.04 & 0.0326 \\\\\n",
       "\t15 & GOOG & 1477.89 & 0.0651 & 0.04 & 0.0251 \\\\\n",
       "\\end{tabular}\n"
      ],
      "text/plain": [
       "\u001b[1m15×5 DataFrame\u001b[0m\n",
       "\u001b[1m Row \u001b[0m│\u001b[1m Ativo \u001b[0m\u001b[1m Real    \u001b[0m\u001b[1m Fatia  \u001b[0m\u001b[1m Ideal \u001b[0m\u001b[1m Diff_Fatia \u001b[0m\n",
       "\u001b[1m     \u001b[0m│\u001b[90m Any   \u001b[0m\u001b[90m Any     \u001b[0m\u001b[90m Any    \u001b[0m\u001b[90m Any   \u001b[0m\u001b[90m Any        \u001b[0m\n",
       "─────┼───────────────────────────────────────────\n",
       "   1 │ IJR    1125.4   0.0496  0.1    -0.0504\n",
       "   2 │ VUG    2504.64  0.1103  0.1    0.0103\n",
       "   3 │ IRBO   1078.32  0.0475  0.1    -0.0525\n",
       "   4 │ IGV    2192.55  0.0965  0.1    -0.0035\n",
       "   5 │ IEO    510.08   0.0225  0.05   -0.0275\n",
       "   6 │ VBK    1473.85  0.0649  0.1    -0.0351\n",
       "   7 │ SNSR   1896.5   0.0835  0.1    -0.0165\n",
       "   8 │ AMZN   1671.06  0.0736  0.04   0.0336\n",
       "   9 │ FB     1612.85  0.071   0.04   0.031\n",
       "  10 │ VYM    1082.6   0.0477  0.05   -0.0023\n",
       "  11 │ SOXX   2364.75  0.1041  0.05   0.0541\n",
       "  12 │ VIG    1638.6   0.0722  0.05   0.0222\n",
       "  13 │ VXX    431.6    0.019   0.04   -0.021\n",
       "  14 │ MSFT   1649.25  0.0726  0.04   0.0326\n",
       "  15 │ GOOG   1477.89  0.0651  0.04   0.0251"
      ]
     },
     "execution_count": 11,
     "metadata": {},
     "output_type": "execute_result"
    }
   ],
   "source": [
    "using JuMP, GLPK, DataFrames, XLSX, CSV, Ipopt\n",
    "\n",
    "\n",
    "df = XLSX.readdata(\"G:/Meu Drive/Investimentos.xlsx\", \"Investimentos\", \"C1:M16\")\n",
    "df = DataFrame(Any[@view df[2:end, i] for i in 1:size(df, 2)], Symbol.(df[1, :]))\n",
    "\n",
    "select!(df, Not([:Qnt,:PM,:Variacao,:Diff_Inv,:Atual,:Investido]))"
   ]
  },
  {
   "cell_type": "markdown",
   "id": "52e0d7fa",
   "metadata": {},
   "source": [
    "# Definição das variáveis e condições de aporte"
   ]
  },
  {
   "cell_type": "markdown",
   "id": "91ddba2e",
   "metadata": {},
   "source": [
    "Configuração das variáveis que entrarão na otimização, bem como os parâmetros relacionados ao aporte e se as mudanças no portfolio considerarão a possibilidade de vendas de ativos, para equilibrar o portfolio.\n",
    "\n",
    "A primeira ilustração não levará em consideração a venda de ativos, para equilibrar o portfólio."
   ]
  },
  {
   "cell_type": "code",
   "execution_count": 3,
   "id": "23c6cd5c",
   "metadata": {},
   "outputs": [],
   "source": [
    "#----Variáveis\n",
    "investido = df.Real\n",
    "ideal = df.Ideal\n",
    "conj_ativos = collect(1:(size(df)[1])) # qnt. de atributos\n",
    "valor_aporte = 1000 #EM DÓLARES\n",
    "vender = false;"
   ]
  },
  {
   "cell_type": "markdown",
   "id": "4a4a076d",
   "metadata": {},
   "source": [
    "# Problema de otimização"
   ]
  },
  {
   "cell_type": "code",
   "execution_count": 8,
   "id": "ae6a5f1a",
   "metadata": {},
   "outputs": [],
   "source": [
    "#----Otimização\n",
    "function OPT_problem(investido,ideal,conj_ativos,valor_aporte, vender)\n",
    "    @eval begin\n",
    "    OPT = Model(Ipopt.Optimizer);\n",
    "    set_silent(OPT) # O otimizador não imprime nada.\n",
    "\n",
    "    #Definição das variáveis\n",
    "    if vender == false\n",
    "        @variable(OPT, aporte[i in conj_ativos] >= 0)\n",
    "    else\n",
    "        @variable(OPT, aporte[i in conj_ativos])\n",
    "    end\n",
    "    @variable(OPT, new_frac[i in conj_ativos] >= 0)\n",
    "    @variable(OPT, abs_frac[i in conj_ativos] >= 0)\n",
    "    # @variable(OPT, investir[i in conj_ativos], binary = true)\n",
    "\n",
    "    #Restrições\n",
    "    @constraint(OPT, new_frac_, sum(new_frac[i] for i in conj_ativos) == 1)\n",
    "    @NLconstraint(OPT, frac_ideal[i in conj_ativos],\n",
    "        (new_frac[i] * sum(investido[i]+aporte[i] for i in conj_ativos))\n",
    "        <= (investido[i]+aporte[i]))\n",
    "    @constraint(OPT, abs_1[i in conj_ativos], abs_frac[i] >= (ideal[i] - new_frac[i]))\n",
    "    @constraint(OPT, abs_2[i in conj_ativos], abs_frac[i] >= -(ideal[i] - new_frac[i]))\n",
    "    @constraint(OPT, new_frac_less_one[i in conj_ativos], new_frac[i] <= 1)\n",
    "    @constraint(OPT, val_aporte, sum(aporte[i] for i in conj_ativos) == valor_aporte)\n",
    "    @constraint(OPT, val_aporte_max[i in conj_ativos], aporte[i] <= valor_aporte)\n",
    "    # @constraint(OPT, corretagem, sum(investir[i] for i in conj_ativos) <= 10)\n",
    "\n",
    "\n",
    "    #Função objetivo\n",
    "    @objective(OPT, Min, sum(abs_frac[i] for i in conj_ativos))\n",
    "    # @objective(OPT, Min, sum(L[t] for t in T_L)/L_norm + α*sum(sum(s[j,t] for j in p) for t in T_B))\n",
    "\n",
    "    optimize!(OPT)\n",
    "    fo = JuMP.objective_value(OPT)\n",
    "    aportee=[JuMP.value.(aporte)[CartesianIndex(i)] for i in 1:length(ideal)]\n",
    "    new_fracc=[JuMP.value.(new_frac)[CartesianIndex(i)] for i in 1:length(ideal)]\n",
    "\n",
    "end\n",
    "end"
   ]
  },
  {
   "cell_type": "markdown",
   "id": "3febf9a8",
   "metadata": {},
   "source": [
    "# Solução"
   ]
  },
  {
   "cell_type": "code",
   "execution_count": 7,
   "id": "cbd0e430",
   "metadata": {},
   "outputs": [
    {
     "name": "stdout",
     "output_type": "stream",
     "text": [
      "\n",
      "Função objetivo: 0.36975856898128745\n",
      "Vender: false\n",
      "Aporte: $ 1000\n",
      "\n",
      "\u001b[1m15×7 DataFrame\u001b[0m\n",
      "\u001b[1m Row \u001b[0m│\u001b[1m Ativo \u001b[0m\u001b[1m Real    \u001b[0m\u001b[1m Investido \u001b[0m\u001b[1m Fatia   \u001b[0m\u001b[1m Ideal \u001b[0m\u001b[1m Diff_Fatia \u001b[0m\u001b[1m Aporte  \u001b[0m\n",
      "\u001b[1m     \u001b[0m│\u001b[90m Any   \u001b[0m\u001b[90m Any     \u001b[0m\u001b[90m Float64   \u001b[0m\u001b[90m Float64 \u001b[0m\u001b[90m Any   \u001b[0m\u001b[90m Float64    \u001b[0m\u001b[90m Float64 \u001b[0m\n",
      "─────┼────────────────────────────────────────────────────────────────\n",
      "   1 │ IJR    1125.4    1235.23     0.052  0.1         0.048  109.826\n",
      "   2 │ VUG    2504.64   2504.64     0.106  0.1        -0.006    0.0\n",
      "   3 │ IRBO   1078.32   1623.52     0.068  0.1         0.032  545.202\n",
      "   4 │ IGV    2192.55   2194.68     0.093  0.1         0.007    2.127\n",
      "   5 │ IEO    510.08     580.931    0.025  0.05        0.025   70.851\n",
      "   6 │ VBK    1473.85   1699.72     0.072  0.1         0.028  225.871\n",
      "   7 │ SNSR   1896.5    1916.64     0.081  0.1         0.019   20.144\n",
      "   8 │ AMZN   1671.06   1671.06     0.07   0.04       -0.03     0.0\n",
      "   9 │ FB     1612.85   1612.85     0.068  0.04       -0.028    0.0\n",
      "  10 │ VYM    1082.6    1083.29     0.046  0.05        0.004    0.685\n",
      "  11 │ SOXX   2364.75   2364.75     0.1    0.05       -0.05     0.0\n",
      "  12 │ VIG    1638.6    1638.6      0.069  0.05       -0.019    0.0\n",
      "  13 │ VXX    431.6      456.894    0.019  0.04        0.021   25.294\n",
      "  14 │ MSFT   1649.25   1649.25     0.07   0.04       -0.03     0.0\n",
      "  15 │ GOOG   1477.89   1477.89     0.062  0.04       -0.022    0.0\n",
      "Aporte: 999.9999999999999\n",
      "Dólares Investidos: 23709.94"
     ]
    }
   ],
   "source": [
    "OPT_problem(investido,ideal,conj_ativos,valor_aporte, vender);\n",
    "print(\"\\nFunção objetivo: \", fo, \"\\n\")\n",
    "print(\"Vender: \", vender, \"\\n\")\n",
    "print(\"Aporte: \\$ \", valor_aporte, \"\\n\\n\")\n",
    "\n",
    "insertcols!(df, size(df)[2]+1, :Aporte => round.(aportee, digits = 3))\n",
    "\n",
    "df.Fatia = round.(new_fracc; digits = 3)\n",
    "df.Diff_Fatia = round.(df.Ideal - df.Fatia, digits = 3)\n",
    "insertcols!(df, 3, :Investido => round.(df.Real + df.Aporte, digits = 3))\n",
    "# df.Real = round.(df.Real + df.Aporte, digits = 3)\n",
    "# insertcols!(df, 8, :Diff_New => round.(df.Ideal - df.Fatia, digits = 3))\n",
    "print(df)\n",
    "\n",
    "print(\"\\nAporte: \",sum(df.Aporte))\n",
    "print(\"\\nDólares Investidos: \",sum(df.Investido))"
   ]
  },
  {
   "cell_type": "markdown",
   "id": "190c82e3",
   "metadata": {},
   "source": [
    "Os ativos que estavam com composição superior a faixa ideal não tiveram aportes (nem venda), como o esperado. Estes seriam os aportes necessários para buscar equilibrar o portfolio. Próximas versões poderiam adicionar custo de corretagem, para evitar aportes pequenos, como observado no ativo \"IGV\"."
   ]
  },
  {
   "cell_type": "markdown",
   "id": "ab5a25c9",
   "metadata": {},
   "source": [
    "# Aportes com vendas de ativo"
   ]
  },
  {
   "cell_type": "code",
   "execution_count": 12,
   "id": "088aa35d",
   "metadata": {},
   "outputs": [],
   "source": [
    "#----Variáveis\n",
    "investido = df.Real\n",
    "ideal = df.Ideal\n",
    "conj_ativos = collect(1:(size(df)[1])) # qnt. de atributos\n",
    "valor_aporte = 1000 #EM DÓLARES\n",
    "vender = true;"
   ]
  },
  {
   "cell_type": "code",
   "execution_count": 13,
   "id": "196b0f21",
   "metadata": {},
   "outputs": [
    {
     "name": "stdout",
     "output_type": "stream",
     "text": [
      "\n",
      "Função objetivo: 0.04543567248414747\n",
      "Vender: true\n",
      "Aporte: $ 1000\n",
      "\n",
      "\u001b[1m15×7 DataFrame\u001b[0m\n",
      "\u001b[1m Row \u001b[0m│\u001b[1m Ativo \u001b[0m\u001b[1m Real    \u001b[0m\u001b[1m Investido \u001b[0m\u001b[1m Fatia   \u001b[0m\u001b[1m Ideal \u001b[0m\u001b[1m Diff_Fatia \u001b[0m\u001b[1m Aporte    \u001b[0m\n",
      "\u001b[1m     \u001b[0m│\u001b[90m Any   \u001b[0m\u001b[90m Any     \u001b[0m\u001b[90m Float64   \u001b[0m\u001b[90m Float64 \u001b[0m\u001b[90m Any   \u001b[0m\u001b[90m Float64    \u001b[0m\u001b[90m Float64   \u001b[0m\n",
      "─────┼──────────────────────────────────────────────────────────────────\n",
      "   1 │ IJR    1125.4    2125.38     0.09   0.1         0.01     999.978\n",
      "   2 │ VUG    2504.64   2412.97     0.102  0.1        -0.002    -91.669\n",
      "   3 │ IRBO   1078.32   2078.3      0.088  0.1         0.012    999.978\n",
      "   4 │ IGV    2192.55   2412.6      0.102  0.1        -0.002    220.046\n",
      "   5 │ IEO    510.08    1225.55     0.052  0.05       -0.002    715.467\n",
      "   6 │ VBK    1473.85   2404.41     0.101  0.1        -0.001    930.559\n",
      "   7 │ SNSR   1896.5    2411.89     0.102  0.1        -0.002    515.385\n",
      "   8 │ AMZN   1671.06    991.322    0.042  0.04       -0.002   -679.738\n",
      "   9 │ FB     1612.85    991.312    0.042  0.04       -0.002   -621.538\n",
      "  10 │ VYM    1082.6    1227.63     0.052  0.05       -0.002    145.031\n",
      "  11 │ SOXX   2364.75   1228.2      0.052  0.05       -0.002  -1136.55\n",
      "  12 │ VIG    1638.6    1228.12     0.052  0.05       -0.002   -410.475\n",
      "  13 │ VXX    431.6      989.673    0.042  0.04       -0.002    558.073\n",
      "  14 │ MSFT   1649.25    991.319    0.042  0.04       -0.002   -657.931\n",
      "  15 │ GOOG   1477.89    991.268    0.042  0.04       -0.002   -486.622\n",
      "Aporte: 999.9989999999991\n",
      "Dólares Investidos: 23709.939000000002"
     ]
    }
   ],
   "source": [
    "#Carregando dados novamente devido as alterações anteriores.\n",
    "df = XLSX.readdata(\"G:/Meu Drive/Investimentos.xlsx\", \"Investimentos\", \"C1:M16\")\n",
    "df = DataFrame(Any[@view df[2:end, i] for i in 1:size(df, 2)], Symbol.(df[1, :]))\n",
    "select!(df, Not([:Qnt,:PM,:Variacao,:Diff_Inv,:Atual,:Investido]))\n",
    "\n",
    "#Chamando função de otimização\n",
    "OPT_problem(investido,ideal,conj_ativos,valor_aporte, vender);\n",
    "\n",
    "#Print de resultados\n",
    "print(\"\\nFunção objetivo: \", fo, \"\\n\")\n",
    "print(\"Vender: \", vender, \"\\n\")\n",
    "print(\"Aporte: \\$ \", valor_aporte, \"\\n\\n\")\n",
    "\n",
    "insertcols!(df, size(df)[2]+1, :Aporte => round.(aportee, digits = 3))\n",
    "\n",
    "df.Fatia = round.(new_fracc; digits = 3)\n",
    "df.Diff_Fatia = round.(df.Ideal - df.Fatia, digits = 3)\n",
    "insertcols!(df, 3, :Investido => round.(df.Real + df.Aporte, digits = 3))\n",
    "# df.Real = round.(df.Real + df.Aporte, digits = 3)\n",
    "# insertcols!(df, 8, :Diff_New => round.(df.Ideal - df.Fatia, digits = 3))\n",
    "print(df)\n",
    "\n",
    "print(\"\\nAporte: \",sum(df.Aporte))\n",
    "print(\"\\nDólares Investidos: \",sum(df.Investido))"
   ]
  },
  {
   "cell_type": "markdown",
   "id": "69e186bd",
   "metadata": {},
   "source": [
    "A possibilidade de vendas de ativo possibilita que o portfolio tenda a alcançar as frações desejadas pelo gestor. É uma ferramenta bem útil para quem trabalha com um portfolio com muitos ativos e que queira rebalancear a carteira ao longo do tempo, buscando um manejo adequado a cada ativo, ao longo do ciclo econômico."
   ]
  }
 ],
 "metadata": {
  "kernelspec": {
   "display_name": "Julia 1.5.4",
   "language": "julia",
   "name": "julia-1.5"
  },
  "language_info": {
   "file_extension": ".jl",
   "mimetype": "application/julia",
   "name": "julia",
   "version": "1.5.4"
  }
 },
 "nbformat": 4,
 "nbformat_minor": 5
}
